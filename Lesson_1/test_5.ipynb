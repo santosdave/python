{
 "cells": [
  {
   "cell_type": "code",
   "execution_count": null,
   "metadata": {},
   "outputs": [],
   "source": [
    "class Node:\n",
    "    def __init__(self,value):\n",
    "        self.value = value\n",
    "        self.next = None\n",
    "\n",
    "\n",
    "class LinkedList:\n",
    "    def __init__(self,head=None,tail=None):\n",
    "        self.head = head\n",
    "        def append(self, new_node):\n",
    "            current = self.head\n",
    "            if current:\n",
    "                while current.next:\n",
    "                    current = current.next\n",
    "                    current.next = new_node\n",
    "            else:\n",
    "                self.head = new_node\n",
    "        def delete(self, value):\n",
    "            pass\n",
    "\n",
    "        def insert(self, value):\n",
    "            pass\n",
    "\n",
    "        def print(self, value):\n",
    "            pass\n",
    "\n",
    "\n"
   ]
  }
 ],
 "metadata": {
  "kernelspec": {
   "display_name": "Python 3",
   "language": "python",
   "name": "python3"
  },
  "language_info": {
   "codemirror_mode": {
    "name": "ipython",
    "version": 3
   },
   "file_extension": ".py",
   "mimetype": "text/x-python",
   "name": "python",
   "nbconvert_exporter": "python",
   "pygments_lexer": "ipython3",
   "version": "3.9.13"
  },
  "orig_nbformat": 4,
  "vscode": {
   "interpreter": {
    "hash": "be345b5593c3eddd3844baad6bcf0cdc0eab7c6a0a33de3f0426a9776d5a2765"
   }
  }
 },
 "nbformat": 4,
 "nbformat_minor": 2
}
